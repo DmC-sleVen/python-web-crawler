{
 "cells": [
  {
   "cell_type": "code",
   "execution_count": 10,
   "metadata": {},
   "outputs": [],
   "source": [
    "import requests\n",
    "from bs4 import BeautifulSoup\n",
    "from urllib.parse import urljoin\n",
    "import time\n",
    "\n",
    "class MietenFetcher():\n",
    "    def fetch(self):\n",
    "        url = \"https://www.immobilienscout24.de/Suche/de/baden-wuerttemberg/freiburg-im-breisgau/wohnung-kaufen\"\n",
    "        \n",
    "        while url != \"\":\n",
    "            print(url)\n",
    "            time.sleep(1)\n",
    "            r = requests.get(url)\n",
    "            dok = BeautifulSoup(r.text, \"html.parser\")    \n",
    "\n",
    "            \n",
    "            for i in dok.select(\".font-nowrap\"):\n",
    "                splitted = i.text.split()\n",
    "                if splitted[1]==\"€\":\n",
    "                    Mieten = splitted[0]\n",
    "                    print(Mieten, \"€\")\n",
    "                    \n",
    "                \n",
    "\n",
    "            next_page = dok.select_one(\".icon-arrow-forward\")\n",
    "            if next_page:\n",
    "                next_page = next_page.attrs[\"href\"]\n",
    "                baseurl = \"https://www.immobilienscout24.de\"\n",
    "                nexturl = urljoin(baseurl, next_page)\n",
    "                url = nexturl\n",
    "            else:\n",
    "                url = \"\"\n",
    "            \n",
    "\n",
    "\n",
    "    def jahresnettokaltmiete(self):\n",
    "        print(\"This is has to be done! An issue is already open!\")\n",
    "        print(\"This is a test\")\n",
    "        print(\"Another test\")\n",
    "        print(\"Is this working?\")\n",
    "        print(\"This is a test\")\n",
    "        print(\"just testing something\")    \n",
    "        print(\"Another useless test\")\n",
    "        return\n",
    "    \n",
    "\n",
    "    \n",
    "\n"
   ]
  },
  {
   "cell_type": "code",
   "execution_count": 11,
   "metadata": {},
   "outputs": [],
   "source": [
    "fetcher = MietenFetcher()"
   ]
  },
  {
   "cell_type": "code",
   "execution_count": 12,
   "metadata": {},
   "outputs": [
    {
     "name": "stdout",
     "output_type": "stream",
     "text": [
      "https://www.immobilienscout24.de/Suche/de/baden-wuerttemberg/freiburg-im-breisgau/wohnung-kaufen\n"
     ]
    },
    {
     "ename": "TypeError",
     "evalue": "'NoneType' object is not iterable",
     "output_type": "error",
     "traceback": [
      "\u001b[0;31m---------------------------------------------------------------------------\u001b[0m",
      "\u001b[0;31mTypeError\u001b[0m                                 Traceback (most recent call last)",
      "\u001b[0;32m<ipython-input-12-3e317e13165f>\u001b[0m in \u001b[0;36m<module>\u001b[0;34m\u001b[0m\n\u001b[0;32m----> 1\u001b[0;31m \u001b[0;32mfor\u001b[0m \u001b[0mi\u001b[0m \u001b[0;32min\u001b[0m \u001b[0mfetcher\u001b[0m\u001b[0;34m.\u001b[0m\u001b[0mfetch\u001b[0m\u001b[0;34m(\u001b[0m\u001b[0;34m)\u001b[0m\u001b[0;34m:\u001b[0m\u001b[0;34m\u001b[0m\u001b[0;34m\u001b[0m\u001b[0m\n\u001b[0m\u001b[1;32m      2\u001b[0m     \u001b[0mprint\u001b[0m\u001b[0;34m(\u001b[0m\u001b[0mi\u001b[0m\u001b[0;34m)\u001b[0m\u001b[0;34m\u001b[0m\u001b[0;34m\u001b[0m\u001b[0m\n",
      "\u001b[0;31mTypeError\u001b[0m: 'NoneType' object is not iterable"
     ]
    }
   ],
   "source": [
    "for i in fetcher.fetch():\n",
    "    print(i)"
   ]
  },
  {
   "cell_type": "code",
   "execution_count": null,
   "metadata": {},
   "outputs": [],
   "source": []
  },
  {
   "cell_type": "code",
   "execution_count": null,
   "metadata": {},
   "outputs": [],
   "source": []
  },
  {
   "cell_type": "code",
   "execution_count": null,
   "metadata": {},
   "outputs": [],
   "source": []
  }
 ],
 "metadata": {
  "kernelspec": {
   "display_name": "Python 3",
   "language": "python",
   "name": "python3"
  },
  "language_info": {
   "codemirror_mode": {
    "name": "ipython",
    "version": 3
   },
   "file_extension": ".py",
   "mimetype": "text/x-python",
   "name": "python",
   "nbconvert_exporter": "python",
   "pygments_lexer": "ipython3",
   "version": "3.7.4"
  }
 },
 "nbformat": 4,
 "nbformat_minor": 2
}
